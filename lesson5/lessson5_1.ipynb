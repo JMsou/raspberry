{
 "cells": [
  {
   "cell_type": "markdown",
   "metadata": {},
   "source": [
    "這堂課在學迴圈"
   ]
  },
  {
   "cell_type": "code",
   "execution_count": null,
   "metadata": {},
   "outputs": [],
   "source": [
    "total = 0\n",
    "for i in range(1,101):\n",
    "    total += i\n",
    "\n",
    "total"
   ]
  },
  {
   "cell_type": "code",
   "execution_count": null,
   "metadata": {},
   "outputs": [],
   "source": [
    "for i in 'niubility':\n",
    "    print(i)"
   ]
  },
  {
   "cell_type": "code",
   "execution_count": null,
   "metadata": {},
   "outputs": [],
   "source": [
    "while True:\n",
    "    try:\n",
    "        height = int(input('請輸入身高(公分)：'))\n",
    "        if height > 300 or height < 0:\n",
    "            raise Exception('身高請輸入300公分以內')\n",
    "        weight = int(input('請輸入體重(公斤)：'))\n",
    "        if weight < 0:\n",
    "            raise Exception('請輸入正確體重')\n",
    "        BMI = weight/((height/100)**2)\n",
    "        print(f'你的BMI值是{BMI}')\n",
    "        if BMI<18.5:\n",
    "            print('您的體重過輕')\n",
    "        elif BMI<24:\n",
    "            print('您的體重正常')\n",
    "        elif BMI<27:\n",
    "            print('您的體重過重')\n",
    "        elif BMI<30:\n",
    "            print('您現在輕度肥胖')\n",
    "        elif BMI<35:\n",
    "            print('您現在中度肥胖')\n",
    "        else:\n",
    "            print('您現在重度肥胖')\n",
    "    \n",
    "        \n",
    "    except ValueError:\n",
    "        print('請輸入純數字')\n",
    "        continue\n",
    "    except Exception as e:\n",
    "        print(e)\n",
    "        continue\n",
    "\n",
    "    play_again = input('還要繼續算BMI嗎？(y,n)')\n",
    "    if play_again == 'n':\n",
    "        break\n",
    "\n",
    "print(\"BMI計算結束\")\n",
    "\n",
    "    \n",
    "\n"
   ]
  },
  {
   "cell_type": "code",
   "execution_count": 1,
   "metadata": {},
   "outputs": [
    {
     "name": "stdout",
     "output_type": "stream",
     "text": [
      "輸入格式錯誤\n",
      "輸入格式錯誤\n",
      "輸入格式錯誤\n",
      "輸入格式錯誤\n",
      "輸入格式錯誤\n",
      "輸入格式錯誤\n",
      "輸入格式錯誤\n",
      "輸入格式錯誤\n",
      "輸入格式錯誤\n",
      "輸入格式錯誤\n",
      "輸入格式錯誤\n",
      "輸入格式錯誤\n",
      "輸入格式錯誤\n",
      "輸入格式錯誤\n",
      "輸入格式錯誤\n",
      "輸入格式錯誤\n",
      "輸入格式錯誤\n",
      "輸入格式錯誤\n"
     ]
    }
   ],
   "source": [
    "while True:\n",
    "    while True:\n",
    "        try:\n",
    "            height = int(input('請輸入身高(公分)：'))\n",
    "            if height > 300 or height < 0:\n",
    "                raise Exception('身高請輸入300公分以內')\n",
    "            break\n",
    "        except ValueError:\n",
    "            print('輸入格式錯誤')\n",
    "            continue\n",
    "        except Exception as e:\n",
    "            print(e)\n",
    "            continue\n",
    "        \n",
    "    while True:    \n",
    "        try:\n",
    "            weight = int(input('請輸入體重(公斤)：'))\n",
    "            if weight < 0:\n",
    "                raise Exception('請輸入正確體重')\n",
    "            break\n",
    "        except ValueError:\n",
    "            print('輸入格式錯誤')\n",
    "            continue\n",
    "        except Exception as e:\n",
    "            print(e)\n",
    "            continue\n",
    "\n",
    "    BMI = weight/((height/100)**2)\n",
    "    print(f'你的BMI值是{BMI}')\n",
    "    if BMI<18.5:\n",
    "        print('您的體重過輕')\n",
    "    elif BMI<24:\n",
    "        print('您的體重正常')\n",
    "    elif BMI<27:\n",
    "        print('您的體重過重')\n",
    "    elif BMI<30:\n",
    "        print('您現在輕度肥胖')\n",
    "    elif BMI<35:\n",
    "        print('您現在中度肥胖')\n",
    "    else:\n",
    "        print('您現在重度肥胖')\n",
    "\n",
    "    play_again = input('還要繼續算BMI嗎？(y,n)')\n",
    "    if play_again == 'n':\n",
    "        break\n",
    "\n",
    "print(\"BMI計算結束\")\n",
    "\n",
    "    \n",
    "\n"
   ]
  }
 ],
 "metadata": {
  "kernelspec": {
   "display_name": "venv1",
   "language": "python",
   "name": "python3"
  },
  "language_info": {
   "codemirror_mode": {
    "name": "ipython",
    "version": 3
   },
   "file_extension": ".py",
   "mimetype": "text/x-python",
   "name": "python",
   "nbconvert_exporter": "python",
   "pygments_lexer": "ipython3",
   "version": "3.11.9"
  }
 },
 "nbformat": 4,
 "nbformat_minor": 2
}
