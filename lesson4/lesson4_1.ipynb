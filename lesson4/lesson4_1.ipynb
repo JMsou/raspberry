{
 "cells": [
  {
   "cell_type": "code",
   "execution_count": null,
   "metadata": {},
   "outputs": [],
   "source": [
    "#if\n",
    "age = 17\n",
    "if age < 18:\n",
    "    print(\"不可以考駕照\")\n",
    "else:\n",
    "    print(\"可以考駕照\")\n",
    "print(\"應用程式結束\")"
   ]
  },
  {
   "cell_type": "markdown",
   "metadata": {},
   "source": []
  },
  {
   "cell_type": "code",
   "execution_count": 2,
   "metadata": {},
   "outputs": [
    {
     "ename": "ValueError",
     "evalue": "invalid literal for int() with base 10: '233q'",
     "output_type": "error",
     "traceback": [
      "\u001b[1;31m---------------------------------------------------------------------------\u001b[0m",
      "\u001b[1;31mValueError\u001b[0m                                Traceback (most recent call last)",
      "Cell \u001b[1;32mIn[2], line 5\u001b[0m\n\u001b[0;32m      1\u001b[0m \u001b[38;5;66;03m# 學分總分為300分\u001b[39;00m\n\u001b[0;32m      2\u001b[0m \u001b[38;5;66;03m# 有些學生可以加分5%\u001b[39;00m\n\u001b[0;32m      3\u001b[0m \u001b[38;5;66;03m# 如果加分超過300, 就以300分為準\u001b[39;00m\n\u001b[1;32m----> 5\u001b[0m score \u001b[38;5;241m=\u001b[39m \u001b[38;5;28;43mint\u001b[39;49m\u001b[43m(\u001b[49m\u001b[38;5;28;43minput\u001b[39;49m\u001b[43m(\u001b[49m\u001b[38;5;124;43m\"\u001b[39;49m\u001b[38;5;124;43m請輸入學生分數(最高300分)：\u001b[39;49m\u001b[38;5;124;43m\"\u001b[39;49m\u001b[43m)\u001b[49m\u001b[43m)\u001b[49m\n\u001b[0;32m      6\u001b[0m is_add \u001b[38;5;241m=\u001b[39m \u001b[38;5;28minput\u001b[39m(\u001b[38;5;124m\"\u001b[39m\u001b[38;5;124m學生是否符合加分條件？(y,n)\u001b[39m\u001b[38;5;124m\"\u001b[39m)\n\u001b[0;32m      8\u001b[0m \u001b[38;5;28;01mif\u001b[39;00m is_add \u001b[38;5;241m==\u001b[39m \u001b[38;5;124m\"\u001b[39m\u001b[38;5;124my\u001b[39m\u001b[38;5;124m\"\u001b[39m:\n",
      "\u001b[1;31mValueError\u001b[0m: invalid literal for int() with base 10: '233q'"
     ]
    }
   ],
   "source": [
    "# 學分總分為300分\n",
    "# 有些學生可以加分5%\n",
    "# 如果加分超過300, 就以300分為準\n",
    "\n",
    "score = int(input(\"請輸入學生分數(最高300分)：\")) #int裡面非數值，會raise ValueError-->Exception內建例外的一種\n",
    "is_add = input(\"學生是否符合加分條件？(y,n)\")\n",
    "\n",
    "if is_add == \"y\":\n",
    "    score *= 1.05\n",
    "    if score > 300:\n",
    "        score + 300\n",
    "\n",
    "# print(\"學生分數是\" + str(score))\n",
    "print(f\"學生分數是{score}\") #字串插補一個數值要f&大括號"
   ]
  },
  {
   "cell_type": "code",
   "execution_count": 6,
   "metadata": {},
   "outputs": [
    {
     "name": "stdout",
     "output_type": "stream",
     "text": [
      "輸入格式有誤\n",
      "應用程式結束\n"
     ]
    }
   ],
   "source": [
    "# 學分總分為300分\n",
    "# 有些學生可以加分5%\n",
    "# 如果加分超過300, 就以300分為準\n",
    "\n",
    "try:    \n",
    "    score = int(input(\"請輸入學生分數(最高300分)：\"))\n",
    "    #raise NameError \n",
    "except ValueError: #try裡面程式若有問題，則會跳去except執行\n",
    "    print(\"輸入格式有誤\")\n",
    "except Exception: #廣泛的except要更下面才行   \n",
    "    print(\"未知錯誤\")\n",
    "else:       #try裡面程式沒有這些except後，才會執行else\n",
    "    is_add = input(\"學生是否符合加分條件？(y,n)\")\n",
    "\n",
    "    if is_add == \"y\":\n",
    "        score *= 1.05\n",
    "        if score > 300:\n",
    "            score + 300\n",
    "\n",
    "    # print(\"學生分數是\" + str(score))\n",
    "    print(f\"學生分數是{score}\") #字串插補一個數值要f&大括號\n",
    "\n",
    "print(\"應用程式結束\")"
   ]
  },
  {
   "cell_type": "code",
   "execution_count": 2,
   "metadata": {},
   "outputs": [
    {
     "name": "stdout",
     "output_type": "stream",
     "text": [
      "輸入分數不可以超過300分\n",
      "應用程式結束\n"
     ]
    }
   ],
   "source": [
    "# 學分總分為300分\n",
    "# 有些學生可以加分5%\n",
    "# 如果加分超過300, 就以300分為準\n",
    "# 手動raise Exception\n",
    "try:    \n",
    "    score = int(input(\"請輸入學生分數(最高300分)：\"))\n",
    "    #raise NameError \n",
    "    if score > 300:\n",
    "        raise Exception(\"輸入分數不可以超過300分\") \n",
    "    is_add = input(\"學生是否符合加分條件？(y,n)\")\n",
    "\n",
    "    if is_add == \"y\":\n",
    "        score *= 1.05\n",
    "        if score > 300:\n",
    "            score + 300\n",
    "\n",
    "    # print(\"學生分數是\" + str(score))\n",
    "    print(f\"學生分數是{score}\") #字串插補一個數值要f&大括號\n",
    "\n",
    "except ValueError: #try裡面程式若有問題，則會跳去except執行\n",
    "    print(\"輸入格式有誤\")\n",
    "except Exception as e: #廣泛的except要更下面才行。'e'應該是變數...\n",
    "    print(f\"{e}\")\n",
    "     \n",
    "print(\"應用程式結束\")"
   ]
  },
  {
   "cell_type": "code",
   "execution_count": 4,
   "metadata": {},
   "outputs": [
    {
     "name": "stdout",
     "output_type": "stream",
     "text": [
      "70~80\n"
     ]
    }
   ],
   "source": [
    "value = 77\n",
    "if value >= 90:\n",
    "    print(\"90以上\")\n",
    "elif value >= 80:\n",
    "    print('80~90')\n",
    "elif value >= 70:\n",
    "    print('70~80')\n",
    "elif value >= 60:\n",
    "    print('60~70')\n",
    "else:\n",
    "    print('60以下')"
   ]
  }
 ],
 "metadata": {
  "kernelspec": {
   "display_name": "venv1",
   "language": "python",
   "name": "python3"
  },
  "language_info": {
   "codemirror_mode": {
    "name": "ipython",
    "version": 3
   },
   "file_extension": ".py",
   "mimetype": "text/x-python",
   "name": "python",
   "nbconvert_exporter": "python",
   "pygments_lexer": "ipython3",
   "version": "3.11.9"
  }
 },
 "nbformat": 4,
 "nbformat_minor": 2
}
